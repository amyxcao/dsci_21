{
 "cells": [
  {
   "cell_type": "markdown",
   "id": "cc1fabe5-454b-4a2c-8639-7eb4400f5545",
   "metadata": {},
   "source": [
    "File location\n"
   ]
  },
  {
   "cell_type": "code",
   "execution_count": 1,
   "id": "da84a171-cb44-4c99-9465-4a638938dc5d",
   "metadata": {},
   "outputs": [
    {
     "name": "stderr",
     "output_type": "stream",
     "text": [
      "── \u001b[1mAttaching core tidyverse packages\u001b[22m ──────────────────────── tidyverse 2.0.0 ──\n",
      "\u001b[32m✔\u001b[39m \u001b[34mdplyr    \u001b[39m 1.1.3     \u001b[32m✔\u001b[39m \u001b[34mreadr    \u001b[39m 2.1.4\n",
      "\u001b[32m✔\u001b[39m \u001b[34mforcats  \u001b[39m 1.0.0     \u001b[32m✔\u001b[39m \u001b[34mstringr  \u001b[39m 1.5.0\n",
      "\u001b[32m✔\u001b[39m \u001b[34mggplot2  \u001b[39m 3.4.4     \u001b[32m✔\u001b[39m \u001b[34mtibble   \u001b[39m 3.2.1\n",
      "\u001b[32m✔\u001b[39m \u001b[34mlubridate\u001b[39m 1.9.3     \u001b[32m✔\u001b[39m \u001b[34mtidyr    \u001b[39m 1.3.0\n",
      "\u001b[32m✔\u001b[39m \u001b[34mpurrr    \u001b[39m 1.0.2     \n",
      "── \u001b[1mConflicts\u001b[22m ────────────────────────────────────────── tidyverse_conflicts() ──\n",
      "\u001b[31m✖\u001b[39m \u001b[34mdplyr\u001b[39m::\u001b[32mfilter()\u001b[39m masks \u001b[34mstats\u001b[39m::filter()\n",
      "\u001b[31m✖\u001b[39m \u001b[34mdplyr\u001b[39m::\u001b[32mlag()\u001b[39m    masks \u001b[34mstats\u001b[39m::lag()\n",
      "\u001b[36mℹ\u001b[39m Use the conflicted package (\u001b[3m\u001b[34m<http://conflicted.r-lib.org/>\u001b[39m\u001b[23m) to force all conflicts to become errors\n"
     ]
    }
   ],
   "source": [
    "library(tidyverse)"
   ]
  },
  {
   "cell_type": "code",
   "execution_count": 4,
   "id": "f3619004-71b0-4d31-8ee4-251c212018e0",
   "metadata": {},
   "outputs": [],
   "source": [
    "library(readxl)"
   ]
  },
  {
   "cell_type": "code",
   "execution_count": 8,
   "id": "d62aa7a8-03d9-48db-811e-f39294e29394",
   "metadata": {},
   "outputs": [
    {
     "name": "stderr",
     "output_type": "stream",
     "text": [
      "\u001b[1m\u001b[22mNew names:\n",
      "\u001b[36m•\u001b[39m `` -> `...2`\n"
     ]
    },
    {
     "data": {
      "text/html": [
       "<table class=\"dataframe\">\n",
       "<caption>A tibble: 12 × 3</caption>\n",
       "<thead>\n",
       "\t<tr><th scope=col>Data Set Characteristics: Multivariate</th><th scope=col>...2</th><th scope=col>Attribute Information:</th></tr>\n",
       "\t<tr><th scope=col>&lt;chr&gt;</th><th scope=col>&lt;lgl&gt;</th><th scope=col>&lt;chr&gt;</th></tr>\n",
       "</thead>\n",
       "<tbody>\n",
       "\t<tr><td>Number of Instances: 403        </td><td>NA</td><td>STG (The degree of study time for goal object materails),                  </td></tr>\n",
       "\t<tr><td>Area: Education                 </td><td>NA</td><td>SCG (The degree of repetition number of user for goal object materails)    </td></tr>\n",
       "\t<tr><td>Attribute Characteristics: Real </td><td>NA</td><td>STR (The degree of study time of user for related objects with goal object)</td></tr>\n",
       "\t<tr><td>Number of Attributes: 5         </td><td>NA</td><td>LPR (The exam performance of user for related objects with goal object)    </td></tr>\n",
       "\t<tr><td>Associated Tasks: Classification</td><td>NA</td><td>PEG (The exam performance of user for goal objects)                        </td></tr>\n",
       "\t<tr><td>NA                              </td><td>NA</td><td>UNS (The knowledge level of user)                                          </td></tr>\n",
       "\t<tr><td>Class Distribution              </td><td>NA</td><td>NA                                                                         </td></tr>\n",
       "\t<tr><td>Very Low: 50                    </td><td>NA</td><td>NA                                                                         </td></tr>\n",
       "\t<tr><td>Low:129                         </td><td>NA</td><td>NA                                                                         </td></tr>\n",
       "\t<tr><td>Middle: 122                     </td><td>NA</td><td>NA                                                                         </td></tr>\n",
       "\t<tr><td>high 130                        </td><td>NA</td><td>NA                                                                         </td></tr>\n",
       "\t<tr><td>Total:403                       </td><td>NA</td><td>NA                                                                         </td></tr>\n",
       "</tbody>\n",
       "</table>\n"
      ],
      "text/latex": [
       "A tibble: 12 × 3\n",
       "\\begin{tabular}{lll}\n",
       " Data Set Characteristics: Multivariate & ...2 & Attribute Information:\\\\\n",
       " <chr> & <lgl> & <chr>\\\\\n",
       "\\hline\n",
       "\t Number of Instances: 403         & NA & STG (The degree of study time for goal object materails),                  \\\\\n",
       "\t Area: Education                  & NA & SCG (The degree of repetition number of user for goal object materails)    \\\\\n",
       "\t Attribute Characteristics: Real  & NA & STR (The degree of study time of user for related objects with goal object)\\\\\n",
       "\t Number of Attributes: 5          & NA & LPR (The exam performance of user for related objects with goal object)    \\\\\n",
       "\t Associated Tasks: Classification & NA & PEG (The exam performance of user for goal objects)                        \\\\\n",
       "\t NA                               & NA & UNS (The knowledge level of user)                                          \\\\\n",
       "\t Class Distribution               & NA & NA                                                                         \\\\\n",
       "\t Very Low: 50                     & NA & NA                                                                         \\\\\n",
       "\t Low:129                          & NA & NA                                                                         \\\\\n",
       "\t Middle: 122                      & NA & NA                                                                         \\\\\n",
       "\t high 130                         & NA & NA                                                                         \\\\\n",
       "\t Total:403                        & NA & NA                                                                         \\\\\n",
       "\\end{tabular}\n"
      ],
      "text/markdown": [
       "\n",
       "A tibble: 12 × 3\n",
       "\n",
       "| Data Set Characteristics: Multivariate &lt;chr&gt; | ...2 &lt;lgl&gt; | Attribute Information: &lt;chr&gt; |\n",
       "|---|---|---|\n",
       "| Number of Instances: 403         | NA | STG (The degree of study time for goal object materails),                   |\n",
       "| Area: Education                  | NA | SCG (The degree of repetition number of user for goal object materails)     |\n",
       "| Attribute Characteristics: Real  | NA | STR (The degree of study time of user for related objects with goal object) |\n",
       "| Number of Attributes: 5          | NA | LPR (The exam performance of user for related objects with goal object)     |\n",
       "| Associated Tasks: Classification | NA | PEG (The exam performance of user for goal objects)                         |\n",
       "| NA                               | NA | UNS (The knowledge level of user)                                           |\n",
       "| Class Distribution               | NA | NA                                                                          |\n",
       "| Very Low: 50                     | NA | NA                                                                          |\n",
       "| Low:129                          | NA | NA                                                                          |\n",
       "| Middle: 122                      | NA | NA                                                                          |\n",
       "| high 130                         | NA | NA                                                                          |\n",
       "| Total:403                        | NA | NA                                                                          |\n",
       "\n"
      ],
      "text/plain": [
       "   Data Set Characteristics: Multivariate ...2\n",
       "1  Number of Instances: 403               NA  \n",
       "2  Area: Education                        NA  \n",
       "3  Attribute Characteristics: Real        NA  \n",
       "4  Number of Attributes: 5                NA  \n",
       "5  Associated Tasks: Classification       NA  \n",
       "6  NA                                     NA  \n",
       "7  Class Distribution                     NA  \n",
       "8  Very Low: 50                           NA  \n",
       "9  Low:129                                NA  \n",
       "10 Middle: 122                            NA  \n",
       "11 high 130                               NA  \n",
       "12 Total:403                              NA  \n",
       "   Attribute Information:                                                     \n",
       "1  STG (The degree of study time for goal object materails),                  \n",
       "2  SCG (The degree of repetition number of user for goal object materails)    \n",
       "3  STR (The degree of study time of user for related objects with goal object)\n",
       "4  LPR (The exam performance of user for related objects with goal object)    \n",
       "5  PEG (The exam performance of user for goal objects)                        \n",
       "6  UNS (The knowledge level of user)                                          \n",
       "7  NA                                                                         \n",
       "8  NA                                                                         \n",
       "9  NA                                                                         \n",
       "10 NA                                                                         \n",
       "11 NA                                                                         \n",
       "12 NA                                                                         "
      ]
     },
     "metadata": {},
     "output_type": "display_data"
    }
   ],
   "source": [
    "data_set <- read_excel(\"dsci_21/Data_User_Modeling_Dataset_Hamdi Tolga KAHRAMAN.xls\")\n",
    "data_set"
   ]
  },
  {
   "cell_type": "markdown",
   "id": "4af5eafe-59e8-4b10-ae6f-2272e1bdf42e",
   "metadata": {},
   "source": [
    "hi"
   ]
  },
  {
   "cell_type": "code",
   "execution_count": null,
   "id": "82ec4133-f7d5-45cc-a533-1e8e25ae921c",
   "metadata": {},
   "outputs": [],
   "source": []
  }
 ],
 "metadata": {
  "kernelspec": {
   "display_name": "R",
   "language": "R",
   "name": "ir"
  },
  "language_info": {
   "codemirror_mode": "r",
   "file_extension": ".r",
   "mimetype": "text/x-r-source",
   "name": "R",
   "pygments_lexer": "r",
   "version": "4.3.1"
  }
 },
 "nbformat": 4,
 "nbformat_minor": 5
}
